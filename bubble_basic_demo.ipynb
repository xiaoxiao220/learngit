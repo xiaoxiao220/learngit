{
 "cells": [
  {
   "cell_type": "code",
   "execution_count": 2,
   "metadata": {},
   "outputs": [
    {
     "data": {
      "text/plain": [
       "'file:///Users/songqian/plotsave/bubble_basic_demo.html'"
      ]
     },
     "execution_count": 2,
     "metadata": {},
     "output_type": "execute_result"
    }
   ],
   "source": [
    "import plotly as py\n",
    "import plotly.graph_objs as go\n",
    "#---------pre def\n",
    "pyplt = py.offline.plot\n",
    "#----------code\n",
    "trace0 = go.Scatter(\n",
    "    x=[1,2,3,4],\n",
    "    y=[10,11,12,13],\n",
    "    mode ='markers',\n",
    "    marker =dict( # 定义每一个点的大小\n",
    "        size = [40,60,80,100],\n",
    "    )\n",
    ")\n",
    "data = [trace0]\n",
    "pyplt(data,filename='/Users/songqian/plotsave/bubble_basic_demo.html')"
   ]
  },
  {
   "cell_type": "code",
   "execution_count": 10,
   "metadata": {},
   "outputs": [
    {
     "data": {
      "text/plain": [
       "'file:///Users/songqian/plotsave/bubble_style.html'"
      ]
     },
     "execution_count": 10,
     "metadata": {},
     "output_type": "execute_result"
    }
   ],
   "source": [
    "#bubble_style 样式设置\n",
    "import plotly as py\n",
    "import plotly.graph_objs as go\n",
    "#------------pre def\n",
    "pyplt = py.offline.plot\n",
    "#------------code\n",
    "trace0=go.Scatter(\n",
    "    x=[1,2,3,4],\n",
    "    y=[10,11,12,13],\n",
    "    mode='markers',\n",
    "    text=['A<br>size:40','B<br>size:60','C<br>size:80','D<br>size:100'],#每个点对应的悬浮文字的<br>换行\n",
    "    marker=dict(\n",
    "        color=[120,125,130,135],# 对应每个点的颜色\n",
    "        opacity=[1,0.8,0.6,0.4],# 每个点的透明度\n",
    "        size=[40,60,80,100],# 每个点的大小\n",
    "        showscale=True,#右边颜色条的大小\n",
    "        )\n",
    ")\n",
    "data=[trace0]\n",
    "pyplt(data,filename='/Users/songqian/plotsave/bubble_style.html')"
   ]
  },
  {
   "cell_type": "markdown",
   "metadata": {},
   "source": [
    "##### 缩放设置\n",
    "调节气泡的大小可通过sizeref 参数进行设置，当sizeref 值 大于1 时，将减少气泡的大小，当sizeref 小于1 时，将增大气泡的大小\n",
    "\n"
   ]
  },
  {
   "cell_type": "code",
   "execution_count": 14,
   "metadata": {},
   "outputs": [
    {
     "data": {
      "text/plain": [
       "'file:///Users/songqian/plotsave/bubble_scale.html'"
      ]
     },
     "execution_count": 14,
     "metadata": {},
     "output_type": "execute_result"
    }
   ],
   "source": [
    "import plotly as py\n",
    "import plotly.graph_objs as go\n",
    "#-------------------pre def\n",
    "pyplt = py.offline.plot\n",
    "#------------------code\n",
    "trace0 = go.Scatter(\n",
    "    x=[1,2,3,4],\n",
    "    y=[10,11,12,13],\n",
    "    text=['A</br>size:40</br>default','B</br>size:60</br>default',\n",
    "          'C</br>size:80</br>default','D</br>size:100</br>default'],\n",
    "    mode='markers',\n",
    "    name='default',\n",
    "    marker=dict(\n",
    "        size=[400,600,800,1000],\n",
    "        sizemode='area',\n",
    "    )\n",
    ")\n",
    "trace1=go.Scatter(\n",
    "    x=[1,2,3,4],\n",
    "    y=[14,15,16,17],\n",
    "    text=['A</br>size:40</br>sizeref:0.2','B</br>size:60</br>sizeref:0.2',\n",
    "          'C</br>size:80</br>sizeref:0.2','D</br>size:100</br>sizeref:0.2'],\n",
    "    mode = 'markers',\n",
    "    name='ref0.2',\n",
    "    marker=dict(\n",
    "        size=[400,600,800,1000],\n",
    "        sizeref=0.2,\n",
    "        sizemode='area',#sizemode 参数有diameter 和 area ，diameter 按直径缩放\n",
    "    )\n",
    ")\n",
    "\n",
    "trace2 = go.Scatter(\n",
    "    x=[1,2,3,4],\n",
    "    y=[20,21,22,23],\n",
    "    text=['A</br>size:40</br>sizeref:2','B</br>size:60</br>sizeref:2',#将气泡大小设置为原来的1/2\n",
    "          'C</br>size:80</br>sizeref:2','C</br>size:100</br>sizeref:2'],\n",
    "    mode = 'markers',\n",
    "    name='ref2',\n",
    "    marker=dict(\n",
    "        size=[400,600,800,1000],\n",
    "        sizeref=2,\n",
    "        sizemode='area',#按面积缩放\n",
    "    )\n",
    ")\n",
    "data = [trace0,trace1,trace2]\n",
    "pyplt(data,filename='/Users/songqian/plotsave/bubble_scale.html')"
   ]
  },
  {
   "cell_type": "code",
   "execution_count": null,
   "metadata": {},
   "outputs": [],
   "source": []
  }
 ],
 "metadata": {
  "kernelspec": {
   "display_name": "Python 3",
   "language": "python",
   "name": "python3"
  },
  "language_info": {
   "codemirror_mode": {
    "name": "ipython",
    "version": 3
   },
   "file_extension": ".py",
   "mimetype": "text/x-python",
   "name": "python",
   "nbconvert_exporter": "python",
   "pygments_lexer": "ipython3",
   "version": "3.6.4"
  }
 },
 "nbformat": 4,
 "nbformat_minor": 2
}
