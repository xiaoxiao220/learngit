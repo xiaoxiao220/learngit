{
 "cells": [
  {
   "cell_type": "code",
   "execution_count": 1,
   "metadata": {},
   "outputs": [
    {
     "data": {
      "text/plain": [
       "'file:///Users/songqian/plotsave/scatter_style.html'"
      ]
     },
     "execution_count": 1,
     "metadata": {},
     "output_type": "execute_result"
    }
   ],
   "source": [
    "#样式设置\n",
    "import plotly as py\n",
    "import plotly.graph_objs as go\n",
    "import numpy as np\n",
    "#--------------pre def\n",
    "pyplt = py.offline.plot\n",
    "#--------------code\n",
    "N =500\n",
    "x = np.random.randn(N)\n",
    "trace0=go.Scatter(\n",
    "    x=np.random.randn(N),\n",
    "    y=np.random.randn(N)+2,\n",
    "    name = 'Above',\n",
    "    mode='markers+lines',\n",
    "    marker = dict(\n",
    "        size = 10,\n",
    "        color ='rgba(152,0,0,8)',\n",
    "        line=dict(\n",
    "            width=2,\n",
    "            color='rgb(0,0,0)'\n",
    "        )\n",
    "    )\n",
    ")\n",
    "trace1=go.Scatter(\n",
    "    x=np.random.randn(N),\n",
    "    y=np.random.randn(N)-2,\n",
    "    name ='Below',\n",
    "    mode=\"markers\",\n",
    "    marker=dict(\n",
    "        size=10,# 点的宽度\n",
    "        color='rgba(255,182,193,.9)',#设置点的颜色\n",
    "        line = dict(\n",
    "            width=2,#设置线条的颜色\n",
    "        )\n",
    "    )\n",
    ")\n",
    "data=[trace0,trace1]\n",
    "layout=dict(\n",
    "    title='Styled Scatter',\n",
    "    yaxis = dict(zeroline = True),\n",
    "    xaxis = dict(zeroline = False)\n",
    "                )\n",
    "fig = dict(data = data,layout=layout)\n",
    "pyplt(fig,filename='/Users/songqian/plotsave/scatter_style.html')"
   ]
  },
  {
   "cell_type": "code",
   "execution_count": null,
   "metadata": {},
   "outputs": [],
   "source": []
  }
 ],
 "metadata": {
  "kernelspec": {
   "display_name": "Python 3",
   "language": "python",
   "name": "python3"
  },
  "language_info": {
   "codemirror_mode": {
    "name": "ipython",
    "version": 3
   },
   "file_extension": ".py",
   "mimetype": "text/x-python",
   "name": "python",
   "nbconvert_exporter": "python",
   "pygments_lexer": "ipython3",
   "version": "3.6.4"
  }
 },
 "nbformat": 4,
 "nbformat_minor": 2
}
