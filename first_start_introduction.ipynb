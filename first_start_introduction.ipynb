{
 "cells": [
  {
   "cell_type": "code",
   "execution_count": 4,
   "metadata": {},
   "outputs": [
    {
     "name": "stderr",
     "output_type": "stream",
     "text": [
      "/Applications/anaconda3/lib/python3.6/site-packages/plotly/graph_objs/_deprecations.py:39: DeprecationWarning:\n",
      "\n",
      "plotly.graph_objs.Data is deprecated.\n",
      "Please replace it with a list or tuple of instances of the following types\n",
      "  - plotly.graph_objs.Scatter\n",
      "  - plotly.graph_objs.Bar\n",
      "  - plotly.graph_objs.Area\n",
      "  - plotly.graph_objs.Histogram\n",
      "  - etc.\n",
      "\n",
      "\n"
     ]
    },
    {
     "name": "stdout",
     "output_type": "stream",
     "text": [
      "OK\n"
     ]
    }
   ],
   "source": [
    "#-*-coding:utf-8-*-   # utf-8编码格式，是python的例行文件头\n",
    "import pandas as pd\n",
    "import plotly as py\n",
    "import plotly.graph_objs as pygo\n",
    "trace0 = pygo.Scatter(  # 定义一个名字为 trace0的变量，用于保存绘图数据，plotly模块库中 graph_objs 子模块的Scatter 数据布局\n",
    "    x= [1,2,3,4], #Scatter 对象的输入数据都是字典格式，横坐标为x\n",
    "    y=[10,15,13,17]) # 纵坐标为y ,横纵坐标用列表的形式\n",
    "trace1 = pygo.Scatter(\n",
    "    x= [1,2,3,4],\n",
    "    y=[16,5,11,9])\n",
    "data = pygo.Data([trace0,trace1]) # 定义为data 变量的Data函数，其输入参数为列表格式\n",
    "py.offline.plot(data,filename = '/Users/songqian/learngit/first_start_introduction.html') # filename 必须以.html 为后缀名\n",
    "#py.offline.plot(data)# 不使用filename定义文件名，plotly模块库自动在当前代码目录下生成一个名为tmp-plot.html的文件，并自动用浏览器打开\n",
    "#py.offline.plot(data,filename='/Users/songqian/learngit/first_start_introduction.html',image='png')# image参数支持png,\n",
    "#jpeg,svg,webP格式，默认None,plotly生成的不是一个图形文件，而是一个内置javascript脚本的HTML 网页文件，最终的图像文件需要调用浏览器的\n",
    "#渲染引擎才能生成的\n",
    "print('OK')"
   ]
  },
  {
   "cell_type": "code",
   "execution_count": null,
   "metadata": {},
   "outputs": [],
   "source": []
  }
 ],
 "metadata": {
  "kernelspec": {
   "display_name": "Python 3",
   "language": "python",
   "name": "python3"
  },
  "language_info": {
   "codemirror_mode": {
    "name": "ipython",
    "version": 3
   },
   "file_extension": ".py",
   "mimetype": "text/x-python",
   "name": "python",
   "nbconvert_exporter": "python",
   "pygments_lexer": "ipython3",
   "version": "3.6.4"
  }
 },
 "nbformat": 4,
 "nbformat_minor": 2
}
